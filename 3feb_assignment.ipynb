{
  "nbformat": 4,
  "nbformat_minor": 0,
  "metadata": {
    "colab": {
      "provenance": []
    },
    "kernelspec": {
      "name": "python3",
      "display_name": "Python 3"
    },
    "language_info": {
      "name": "python"
    }
  },
  "cells": [
    {
      "cell_type": "markdown",
      "source": [
        "Answer1- 'def' keyword is used to create a function."
      ],
      "metadata": {
        "id": "m_Bo-M0M-Rv2"
      }
    },
    {
      "cell_type": "code",
      "source": [
        "def odd():\n",
        "  lst=[]\n",
        "  for i in range(1,25):\n",
        "    if i%2==1:\n",
        "      lst.append(i)\n",
        "  return lst\n",
        "odd()"
      ],
      "metadata": {
        "colab": {
          "base_uri": "https://localhost:8080/"
        },
        "id": "GPLuTRTH-Zb4",
        "outputId": "7ea94982-672b-4814-e874-1177e98e6bb1"
      },
      "execution_count": 1,
      "outputs": [
        {
          "output_type": "execute_result",
          "data": {
            "text/plain": [
              "[1, 3, 5, 7, 9, 11, 13, 15, 17, 19, 21, 23]"
            ]
          },
          "metadata": {},
          "execution_count": 1
        }
      ]
    },
    {
      "cell_type": "markdown",
      "source": [
        "Answer2- '*args' is used in a function defintion in order to get multiple arguments while **kwargs is used in. a function definition in order to get a key and a value pair in the argument.\n",
        "Here a point is to be noted that both args and kwargs are not the keyword of the python, we can use some other words also ,* and ** are important."
      ],
      "metadata": {
        "id": "_Se60YwN-sgn"
      }
    },
    {
      "cell_type": "code",
      "source": [
        "def test1(*args):\n",
        "  return sum(args)\n",
        "\n",
        "test1(1,2,3,4,5,6,7)"
      ],
      "metadata": {
        "colab": {
          "base_uri": "https://localhost:8080/"
        },
        "id": "OS78QVfh_KLS",
        "outputId": "4409bac9-33e2-4fde-8f8f-b03491595f67"
      },
      "execution_count": 2,
      "outputs": [
        {
          "output_type": "execute_result",
          "data": {
            "text/plain": [
              "28"
            ]
          },
          "metadata": {},
          "execution_count": 2
        }
      ]
    },
    {
      "cell_type": "code",
      "source": [
        "def test2(**args):\n",
        "  return args\n",
        "\n",
        "test2(a=1,b=4,c=\"Hello\",d=14.5,e=12+7j)"
      ],
      "metadata": {
        "colab": {
          "base_uri": "https://localhost:8080/"
        },
        "id": "8zodOxwR_ScJ",
        "outputId": "cbe06b76-50c2-40a4-c3b2-bb66e8b5a972"
      },
      "execution_count": 3,
      "outputs": [
        {
          "output_type": "execute_result",
          "data": {
            "text/plain": [
              "{'a': 1, 'b': 4, 'c': 'Hello', 'd': 14.5, 'e': (12+7j)}"
            ]
          },
          "metadata": {},
          "execution_count": 3
        }
      ]
    },
    {
      "cell_type": "markdown",
      "source": [
        "Answer3: An iterator is an object that contains a countable number of values.An iterator is an object that can be iterated upon, meaning that you can traverse through all the values.\n",
        "The iterator object is initialized using the iter() method. It uses the next() method for iteration.*italicized text*"
      ],
      "metadata": {
        "id": "i3PLQYhs_jpl"
      }
    },
    {
      "cell_type": "code",
      "source": [
        "lst=[2, 4, 6, 8, 10, 12, 14, 16,\n",
        "18, 20]"
      ],
      "metadata": {
        "id": "3CxCINAoAJg6"
      },
      "execution_count": 4,
      "outputs": []
    },
    {
      "cell_type": "code",
      "source": [
        "count=0\n",
        "for i in lst:\n",
        "   print(i)\n",
        "   count=count+1\n",
        "   if count==5:\n",
        "     break"
      ],
      "metadata": {
        "colab": {
          "base_uri": "https://localhost:8080/"
        },
        "id": "T0NtOz1gApTX",
        "outputId": "8cdf9aa2-2615-429f-a849-2f479a00a45f"
      },
      "execution_count": 9,
      "outputs": [
        {
          "output_type": "stream",
          "name": "stdout",
          "text": [
            "2\n",
            "4\n",
            "6\n",
            "8\n",
            "10\n"
          ]
        }
      ]
    },
    {
      "cell_type": "markdown",
      "source": [
        "Answer4: A generator is a special type of function which does not return a single value, instead, it returns an iterator object with a sequence of values.\n",
        "Inside a program, when we call a function that has a yield statement, as soon as a yield is encountered, the execution of the function stops and returns an object of the generator to the function caller. In simpler words, the yield keyword will convert an expression that is specified along with it to a generator object and return it to the caller. Hence, if we want to get the values stored inside the generator object,we need to iterate over it."
      ],
      "metadata": {
        "id": "S_FhzCOaBQW_"
      }
    },
    {
      "cell_type": "code",
      "source": [
        "def test_fib(n):\n",
        "  a,b=0,1\n",
        "  for i in range(n):\n",
        "    yield a \n",
        "    a,b=b,a+b\n",
        "\n",
        "for i in test_fib(10):\n",
        "  print(i)"
      ],
      "metadata": {
        "colab": {
          "base_uri": "https://localhost:8080/"
        },
        "id": "d41L0FA1Elwg",
        "outputId": "3778113c-1715-48e4-d9f9-23fcdfdad770"
      },
      "execution_count": 11,
      "outputs": [
        {
          "output_type": "stream",
          "name": "stdout",
          "text": [
            "0\n",
            "1\n",
            "1\n",
            "2\n",
            "3\n",
            "5\n",
            "8\n",
            "13\n",
            "21\n",
            "34\n"
          ]
        }
      ]
    },
    {
      "cell_type": "code",
      "source": [
        "def prime1(n):\n",
        "  a=2\n",
        "\n",
        "  for i in range(2,n):\n",
        "    flag=0\n",
        "    for j in range(2,i):\n",
        "      if i%j==0:\n",
        "        flag=1\n",
        "    if flag!=1:\n",
        "      yield i\n",
        "    \n",
        "for i in prime1(1000):\n",
        "  print(i)"
      ],
      "metadata": {
        "colab": {
          "base_uri": "https://localhost:8080/"
        },
        "id": "ZWzUQSKzE0yk",
        "outputId": "edaf2b92-b1e9-4f7a-e7e9-2270cb3749c2"
      },
      "execution_count": 19,
      "outputs": [
        {
          "output_type": "stream",
          "name": "stdout",
          "text": [
            "2\n",
            "3\n",
            "5\n",
            "7\n",
            "11\n",
            "13\n",
            "17\n",
            "19\n",
            "23\n",
            "29\n",
            "31\n",
            "37\n",
            "41\n",
            "43\n",
            "47\n",
            "53\n",
            "59\n",
            "61\n",
            "67\n",
            "71\n",
            "73\n",
            "79\n",
            "83\n",
            "89\n",
            "97\n",
            "101\n",
            "103\n",
            "107\n",
            "109\n",
            "113\n",
            "127\n",
            "131\n",
            "137\n",
            "139\n",
            "149\n",
            "151\n",
            "157\n",
            "163\n",
            "167\n",
            "173\n",
            "179\n",
            "181\n",
            "191\n",
            "193\n",
            "197\n",
            "199\n",
            "211\n",
            "223\n",
            "227\n",
            "229\n",
            "233\n",
            "239\n",
            "241\n",
            "251\n",
            "257\n",
            "263\n",
            "269\n",
            "271\n",
            "277\n",
            "281\n",
            "283\n",
            "293\n",
            "307\n",
            "311\n",
            "313\n",
            "317\n",
            "331\n",
            "337\n",
            "347\n",
            "349\n",
            "353\n",
            "359\n",
            "367\n",
            "373\n",
            "379\n",
            "383\n",
            "389\n",
            "397\n",
            "401\n",
            "409\n",
            "419\n",
            "421\n",
            "431\n",
            "433\n",
            "439\n",
            "443\n",
            "449\n",
            "457\n",
            "461\n",
            "463\n",
            "467\n",
            "479\n",
            "487\n",
            "491\n",
            "499\n",
            "503\n",
            "509\n",
            "521\n",
            "523\n",
            "541\n",
            "547\n",
            "557\n",
            "563\n",
            "569\n",
            "571\n",
            "577\n",
            "587\n",
            "593\n",
            "599\n",
            "601\n",
            "607\n",
            "613\n",
            "617\n",
            "619\n",
            "631\n",
            "641\n",
            "643\n",
            "647\n",
            "653\n",
            "659\n",
            "661\n",
            "673\n",
            "677\n",
            "683\n",
            "691\n",
            "701\n",
            "709\n",
            "719\n",
            "727\n",
            "733\n",
            "739\n",
            "743\n",
            "751\n",
            "757\n",
            "761\n",
            "769\n",
            "773\n",
            "787\n",
            "797\n",
            "809\n",
            "811\n",
            "821\n",
            "823\n",
            "827\n",
            "829\n",
            "839\n",
            "853\n",
            "857\n",
            "859\n",
            "863\n",
            "877\n",
            "881\n",
            "883\n",
            "887\n",
            "907\n",
            "911\n",
            "919\n",
            "929\n",
            "937\n",
            "941\n",
            "947\n",
            "953\n",
            "967\n",
            "971\n",
            "977\n",
            "983\n",
            "991\n",
            "997\n"
          ]
        }
      ]
    }
  ]
}