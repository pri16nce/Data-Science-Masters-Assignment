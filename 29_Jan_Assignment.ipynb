{
  "nbformat": 4,
  "nbformat_minor": 0,
  "metadata": {
    "colab": {
      "provenance": []
    },
    "kernelspec": {
      "name": "python3",
      "display_name": "Python 3"
    },
    "language_info": {
      "name": "python"
    }
  },
  "cells": [
    {
      "cell_type": "markdown",
      "source": [
        "Answer1: Guido van Rossum developed python programming language."
      ],
      "metadata": {
        "id": "x_gxmNZCNKqr"
      }
    },
    {
      "cell_type": "markdown",
      "source": [
        "Answer2: Python is an interpreted programming language, supporting object-oriented, structured, and functional programming.\n"
      ],
      "metadata": {
        "id": "mE-Qjns0Nm9l"
      }
    },
    {
      "cell_type": "markdown",
      "source": [
        "Answer3: Yes Python is a case sensitive language while dealing with identifiers also."
      ],
      "metadata": {
        "id": "ttBR-6wlNtBy"
      }
    },
    {
      "cell_type": "markdown",
      "source": [
        "Answer4: .py is the correct extension of python file and .ipynb for python notebook."
      ],
      "metadata": {
        "id": "f2zBrX6rN5ZD"
      }
    },
    {
      "cell_type": "markdown",
      "source": [
        "Answer5: Python is both compiled as well as an interpreted language, which means when we run a python code, it is first compiled and then interpreted line by line."
      ],
      "metadata": {
        "id": "YMhuILqIOCMl"
      }
    },
    {
      "cell_type": "markdown",
      "source": [
        "Answer6: Indentation is used to define a block of code in python. Braces {} are used to define a block of code in most programming languages, like C, C++, and Java. But this indentation makes python unique among all programming languages.\n",
        "This indentation highlights the block of code. In Python, indentation is done with whitespace. All statements with the same right-hand distance belong to the same code block. If a block needs to be more nested, it is indented to the right."
      ],
      "metadata": {
        "id": "zBtCR0WiOPkH"
      }
    },
    {
      "cell_type": "markdown",
      "source": [
        "Answer7: //\n"
      ],
      "metadata": {
        "id": "h1bpgXlKOsxp"
      }
    },
    {
      "cell_type": "markdown",
      "source": [
        "Answer8: Using sys.version method\n",
        "Using python_version() function\n",
        "Using Python -V command"
      ],
      "metadata": {
        "id": "HYKkMsj4OwwJ"
      }
    },
    {
      "cell_type": "markdown",
      "source": [
        "Answer9: Lambda"
      ],
      "metadata": {
        "id": "OhP9PxHrO77_"
      }
    },
    {
      "cell_type": "markdown",
      "source": [
        "Answer10: Preffered Installer Program"
      ],
      "metadata": {
        "id": "R-cky76YPHhg"
      }
    },
    {
      "cell_type": "markdown",
      "source": [
        "Answer 11: count(),sum(),index(),isalphanum() etc."
      ],
      "metadata": {
        "id": "OoKADPTWPRL9"
      }
    },
    {
      "cell_type": "markdown",
      "source": [
        "Answer12: An identifier can have a maximum length of 79 characters in python."
      ],
      "metadata": {
        "id": "PN4S1ROMPcAv"
      }
    },
    {
      "cell_type": "markdown",
      "source": [
        "Answer13: Easy to code,easy to read,free and open source, interpreted,robust, have many libraries."
      ],
      "metadata": {
        "id": "CU7KyhPSPnIT"
      }
    },
    {
      "cell_type": "markdown",
      "source": [
        "Answer14: Memory management in Python involves a private heap containing all python objects and data structures."
      ],
      "metadata": {
        "id": "EsaZ2oMrPzvm"
      }
    },
    {
      "cell_type": "markdown",
      "source": [
        "Answer15: This can easilby be seen on google.com"
      ],
      "metadata": {
        "id": "zYhVq0QdP_om"
      }
    },
    {
      "cell_type": "markdown",
      "source": [
        "Answer16: Yes Identation is required in python."
      ],
      "metadata": {
        "id": "UVUq3S3BQKJO"
      }
    }
  ]
}