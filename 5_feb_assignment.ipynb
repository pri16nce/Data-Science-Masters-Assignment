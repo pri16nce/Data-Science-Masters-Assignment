{
  "nbformat": 4,
  "nbformat_minor": 0,
  "metadata": {
    "colab": {
      "provenance": []
    },
    "kernelspec": {
      "name": "python3",
      "display_name": "Python 3"
    },
    "language_info": {
      "name": "python"
    }
  },
  "cells": [
    {
      "cell_type": "markdown",
      "source": [
        "Answer1: \n",
        "A class is considered as a blueprint of objects. We can think of the class as a sketch (prototype) of a house. It contains all the details about the floors, doors, windows, etc. Based on these descriptions we build the house. House is the object.\n",
        "\n",
        "Since many houses can be made from the same description, we can create many objects from a class."
      ],
      "metadata": {
        "id": "1PEko83iXeMQ"
      }
    },
    {
      "cell_type": "code",
      "source": [
        "class prince:\n",
        "  def __init__(self,a,b,c):\n",
        "    self.a=a\n",
        "    self.b=b\n",
        "    self.c=c\n",
        "\n",
        "  def return_details(self):\n",
        "    return self.a,self.b,self.c\n",
        "\n",
        "rohan=prince(1234,\"hello\",724)"
      ],
      "metadata": {
        "id": "gC4ofOB2X7xW"
      },
      "execution_count": 1,
      "outputs": []
    },
    {
      "cell_type": "code",
      "source": [
        "rohan.a"
      ],
      "metadata": {
        "colab": {
          "base_uri": "https://localhost:8080/"
        },
        "id": "_jKX6MK5ZuCE",
        "outputId": "1732e4b0-49d3-4cf9-9e3d-c1b81da54fde"
      },
      "execution_count": 2,
      "outputs": [
        {
          "output_type": "execute_result",
          "data": {
            "text/plain": [
              "1234"
            ]
          },
          "metadata": {},
          "execution_count": 2
        }
      ]
    },
    {
      "cell_type": "code",
      "source": [
        "rohan.b"
      ],
      "metadata": {
        "colab": {
          "base_uri": "https://localhost:8080/",
          "height": 35
        },
        "id": "RK30WBOKZxrX",
        "outputId": "2ee6b6f5-a077-4691-cd06-08486315e47a"
      },
      "execution_count": 3,
      "outputs": [
        {
          "output_type": "execute_result",
          "data": {
            "text/plain": [
              "'hello'"
            ],
            "application/vnd.google.colaboratory.intrinsic+json": {
              "type": "string"
            }
          },
          "metadata": {},
          "execution_count": 3
        }
      ]
    },
    {
      "cell_type": "code",
      "source": [
        "rohan.return_details()"
      ],
      "metadata": {
        "colab": {
          "base_uri": "https://localhost:8080/"
        },
        "id": "GHwMPTk9ZzFi",
        "outputId": "28c21506-c260-4ed6-8420-b3178f5a5f67"
      },
      "execution_count": 4,
      "outputs": [
        {
          "output_type": "execute_result",
          "data": {
            "text/plain": [
              "(1234, 'hello', 724)"
            ]
          },
          "metadata": {},
          "execution_count": 4
        }
      ]
    },
    {
      "cell_type": "markdown",
      "source": [
        "Answer2: Four pillars are Inheritance, Polymorphism, Encapsulation and Abstraction."
      ],
      "metadata": {
        "id": "P-Qxk2SaZ_kH"
      }
    },
    {
      "cell_type": "markdown",
      "source": [
        "Answer3: \n",
        "__init__ is a special python method that runs whenever a new object is created. These types of functions are used to initialize the attributes of that class, E.g., if the class is Person, then the attributes will be name, age, etc.\n",
        "These types of functions are called constructors. Constructors are used to initialize the data members of the class when an object is created. Python uses the __init__ method as a constructor to initialize the data members when an object is created for the class. Let’s look at some examples which will help in understanding __init__ better.\n",
        "\n"
      ],
      "metadata": {
        "id": "EaX0j7aoanwb"
      }
    },
    {
      "cell_type": "code",
      "source": [
        "class Car:\n",
        "    def __init__(self, name):\n",
        "        self.name = name\n",
        "        print(\"I ran first\")\n",
        " \n",
        "    def product(self):\n",
        "        print(\"I ran second\")\n",
        "        return (\"Name: \" + self.name)\n",
        " \n",
        " \n",
        "C = Car('Audi R8')\n",
        "print(C.product())"
      ],
      "metadata": {
        "colab": {
          "base_uri": "https://localhost:8080/"
        },
        "id": "9v2L0B-Yax3q",
        "outputId": "4d2300ca-520f-4d1d-f810-b95e024e9187"
      },
      "execution_count": 5,
      "outputs": [
        {
          "output_type": "stream",
          "name": "stdout",
          "text": [
            "I ran first\n",
            "I ran second\n",
            "Name: Audi R8\n"
          ]
        }
      ]
    },
    {
      "cell_type": "markdown",
      "source": [
        "Answer4:\n",
        "The self variable is used to represent the instance of the class which is often used in object-oriented programming. It works as a reference to the object. Python uses the self parameter to refer to instance attributes and methods of the class.  "
      ],
      "metadata": {
        "id": "Z9QFucyea_gw"
      }
    },
    {
      "cell_type": "markdown",
      "source": [
        "Answer5:\n",
        "Inheritance is a process of obtaining properties and characteristics(variables and methods) of another class. In this hierarchical order, the class which inherits another class is called subclass or child class, and the other class is the parent class.\n",
        "\n",
        "Inheritance is categorized based on the hierarchy followed and the number of parent classes and subclasses involved.\n",
        "\n",
        "There are five types of inheritances:\n",
        "\n",
        "Single Inheritance\n",
        "Multiple Inheritance\n",
        "Multilevel Inheritance\n",
        "Hierarchical Inheritance\n",
        "Hybrid Inheritance"
      ],
      "metadata": {
        "id": "U66FcEblbLzG"
      }
    },
    {
      "cell_type": "markdown",
      "source": [
        " Single inheritance\n",
        "This is a form of inheritance in which a class inherits only one parent class. This is the simple form of inheritance and hence also referred to as simple inheritance."
      ],
      "metadata": {
        "id": "xgL3Hq91bjFM"
      }
    },
    {
      "cell_type": "code",
      "source": [
        "class Parent:\n",
        "  def f1(self):\n",
        "    print(\"Function of parent class.\")\n",
        "\n",
        "class Child(Parent):\n",
        "  def f2(self):\n",
        "    print(\"Function of child class.\")\n",
        "\n",
        "object1 = Child()\n",
        "object1.f1()\n",
        "object1.f2()"
      ],
      "metadata": {
        "colab": {
          "base_uri": "https://localhost:8080/"
        },
        "id": "f4Yd2sELbj5v",
        "outputId": "bff4a12d-6d9e-4163-b34b-f73d2ea1c383"
      },
      "execution_count": 6,
      "outputs": [
        {
          "output_type": "stream",
          "name": "stdout",
          "text": [
            "Function of parent class.\n",
            "Function of child class.\n"
          ]
        }
      ]
    },
    {
      "cell_type": "markdown",
      "source": [
        "Multiple Inheritance\n",
        "An inheritance becomes multiple inheritances when a class inherits more than one parent class. The child class after inheriting properties from various parent classes has access to all of their objects.\n",
        "\n"
      ],
      "metadata": {
        "id": "O-kU7Vn1bpXZ"
      }
    },
    {
      "cell_type": "code",
      "source": [
        "class Parent_1:\n",
        "  def f1(self):\n",
        "    print(\"Function of parent_1 class.\")\n",
        "\n",
        "class Parent_2:\n",
        "  def f2(self):\n",
        "    print(\"Function of parent_2 class.\")\n",
        "\n",
        "class Parent_3:\n",
        "  def f3(self):\n",
        "    print(\"function of parent_3 class.\")\n",
        "\n",
        "class Child(Parent_1, Parent_2, Parent_3):\n",
        "  def f4(self):\n",
        "    print(\"Function of child class.\")\n",
        "\n",
        "object_1 = Child()\n",
        "object_1.f1()\n",
        "object_1.f2()\n",
        "object_1.f3()"
      ],
      "metadata": {
        "colab": {
          "base_uri": "https://localhost:8080/"
        },
        "id": "cTRWLBjLbroR",
        "outputId": "1a2e8e72-894b-4941-a5ef-942e35107b4c"
      },
      "execution_count": 7,
      "outputs": [
        {
          "output_type": "stream",
          "name": "stdout",
          "text": [
            "Function of parent_1 class.\n",
            "Function of parent_2 class.\n",
            "function of parent_3 class.\n"
          ]
        }
      ]
    },
    {
      "cell_type": "markdown",
      "source": [
        "For example, a class_1 is inherited by a class_2 and this class_2 also gets inherited by class_3 and this process goes on. This is known as multi-level inheritance. Let’s understand with an example:"
      ],
      "metadata": {
        "id": "doljJQaPbxpi"
      }
    },
    {
      "cell_type": "code",
      "source": [
        "class Parent:\n",
        "  def f1(self):\n",
        "    print(\"Function of parent class.\")\n",
        "\n",
        "class Child_1(Parent):\n",
        "  def f2(self):\n",
        "    print(\"Function of child_1 class.\")\n",
        "\n",
        "class Child_2(Child_1):\n",
        "  def f3(self):\n",
        "    print(\"Function of child_2 class.\")\n",
        "\n",
        "obj_1 = Child_1()\n",
        "obj_2 = Child_2()\n",
        "\n",
        "obj_1.f1()\n",
        "obj_1.f2()\n",
        "\n",
        "print(\"\\n\")\n",
        "obj_2.f1()\n",
        "obj_2.f2()\n",
        "obj_2.f3()"
      ],
      "metadata": {
        "colab": {
          "base_uri": "https://localhost:8080/"
        },
        "id": "A80kTCs_b2VW",
        "outputId": "126fe67d-afec-470d-9be5-7a7c89510eea"
      },
      "execution_count": 8,
      "outputs": [
        {
          "output_type": "stream",
          "name": "stdout",
          "text": [
            "Function of parent class.\n",
            "Function of child_1 class.\n",
            "\n",
            "\n",
            "Function of parent class.\n",
            "Function of child_1 class.\n",
            "Function of child_2 class.\n"
          ]
        }
      ]
    },
    {
      "cell_type": "markdown",
      "source": [
        "Hierarchical inheritance\n",
        "In this, various Child classes inherit a single Parent class. The example given in the introduction of the inheritance is an example of Hierarchical inheritance since classes BMW and Audi inherit class Car.\n",
        "\n",
        "For simplicity let’s look at another example:"
      ],
      "metadata": {
        "id": "s1aJ22IBcA7a"
      }
    },
    {
      "cell_type": "code",
      "source": [
        "class Parent:\n",
        " def f1(self):\n",
        "  print(\"Function of parent class.\")\n",
        "\n",
        "class Child_1(Parent):\n",
        " def f2(self):\n",
        "  print(\"Function of child_1 class.\")\n",
        "\n",
        "class Child_2(Parent):\n",
        " def f3(self):\n",
        "  print(\"Function of child_2 class.\")\n",
        "\n",
        "obj_1 = Child_1()\n",
        "obj_2 = Child_2()\n",
        "\n",
        "obj_1.f1()\n",
        "obj_1.f2()\n",
        "\n",
        "print('\\n')\n",
        "obj_2.f1()\n",
        "obj_2.f3()"
      ],
      "metadata": {
        "colab": {
          "base_uri": "https://localhost:8080/"
        },
        "id": "OI_Hh2gGcBlV",
        "outputId": "109e631d-5e5e-44e2-efd2-5b5a2b2020b9"
      },
      "execution_count": 12,
      "outputs": [
        {
          "output_type": "stream",
          "name": "stdout",
          "text": [
            "Function of parent class.\n",
            "Function of child_1 class.\n",
            "\n",
            "\n",
            "Function of parent class.\n",
            "Function of child_2 class.\n"
          ]
        }
      ]
    },
    {
      "cell_type": "markdown",
      "source": [
        "Hybrid Inheritance\n",
        "When there is a combination of more than one form of inheritance, it is known as hybrid inheritance. It will be more clear after this example:"
      ],
      "metadata": {
        "id": "vTt93bUicV37"
      }
    },
    {
      "cell_type": "code",
      "source": [
        "class Parent:\n",
        "  def f1(self):\n",
        "    print(\"Function of parent class.\")\n",
        "\n",
        "class Child_1(Parent):\n",
        "  def f2(self):\n",
        "    print(\"Function of child_1 class.\")\n",
        "\n",
        "class Child_2(Parent):\n",
        "  def f3(self):\n",
        "    print(\"Function of child_2 class.\")\n",
        "\n",
        "class Child_3(Child_1, Child_2):\n",
        "  def f4(self):\n",
        "    print(\"Function of child_3 class.\")\n",
        "\n",
        "obj = Child_3()\n",
        "obj.f1()\n",
        "obj.f2()\n",
        "obj.f3()\n",
        "obj.f4()"
      ],
      "metadata": {
        "id": "k318e8JxcWcj",
        "outputId": "9a730773-de42-41d8-d3d3-5e96f9f5e85c",
        "colab": {
          "base_uri": "https://localhost:8080/"
        }
      },
      "execution_count": 13,
      "outputs": [
        {
          "output_type": "stream",
          "name": "stdout",
          "text": [
            "Function of parent class.\n",
            "Function of child_1 class.\n",
            "Function of child_2 class.\n",
            "Function of child_3 class.\n"
          ]
        }
      ]
    },
    {
      "cell_type": "code",
      "source": [],
      "metadata": {
        "id": "7MssL1trcZGJ"
      },
      "execution_count": null,
      "outputs": []
    }
  ]
}