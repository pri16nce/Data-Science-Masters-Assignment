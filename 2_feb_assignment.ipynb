{
  "nbformat": 4,
  "nbformat_minor": 0,
  "metadata": {
    "colab": {
      "provenance": []
    },
    "kernelspec": {
      "name": "python3",
      "display_name": "Python 3"
    },
    "language_info": {
      "name": "python"
    }
  },
  "cells": [
    {
      "cell_type": "markdown",
      "source": [
        "Answer1- Tuple is a data strcuture that can store multiple data types and tuples are defined using () curly brackets. Tuples are iterable,indexable but the main difference between tuple and list is Tuples are immutable that once defined the values in the tuple can be reassigned like lists."
      ],
      "metadata": {
        "id": "51d3tiYkl5pl"
      }
    },
    {
      "cell_type": "markdown",
      "source": [
        "Answer2- There are only two tuple methods in python-\n",
        "1.count()\n",
        "2.index()\n"
      ],
      "metadata": {
        "id": "ZlfrpH2ymmWZ"
      }
    },
    {
      "cell_type": "code",
      "source": [
        "t1=(1,2,3,4,5,1,3,5,8)\n",
        "t1.count(1)"
      ],
      "metadata": {
        "colab": {
          "base_uri": "https://localhost:8080/"
        },
        "id": "MN5Ab8IXmvkM",
        "outputId": "8eb670eb-f575-46b3-a67e-ceee70223e4c"
      },
      "execution_count": 2,
      "outputs": [
        {
          "output_type": "execute_result",
          "data": {
            "text/plain": [
              "2"
            ]
          },
          "metadata": {},
          "execution_count": 2
        }
      ]
    },
    {
      "cell_type": "code",
      "source": [
        "t1.index(5)"
      ],
      "metadata": {
        "colab": {
          "base_uri": "https://localhost:8080/"
        },
        "id": "XrZqvGiom1Jl",
        "outputId": "0f324519-5a9e-4009-93c2-cd12a8229176"
      },
      "execution_count": 3,
      "outputs": [
        {
          "output_type": "execute_result",
          "data": {
            "text/plain": [
              "4"
            ]
          },
          "metadata": {},
          "execution_count": 3
        }
      ]
    },
    {
      "cell_type": "markdown",
      "source": [
        "Main reason is that tuples are immutable thats why other functions are not available in tuples while lists have those."
      ],
      "metadata": {
        "id": "-WjV-ffim9J7"
      }
    },
    {
      "cell_type": "markdown",
      "source": [
        "Answer3- Sets do not allow to store duplicate items in python."
      ],
      "metadata": {
        "id": "rJ19zPTTnIxp"
      }
    },
    {
      "cell_type": "code",
      "source": [
        "List1 = [1, 1, 1, 2, 1, 3, 1, 4, 2, 1, 2, 2, 2, 3, 2, 4, 3, 1, 3, 2, 3, 3, 3, 4, 4, 1, 4, 2, 4, 3, 4, 4]"
      ],
      "metadata": {
        "id": "e6qw7gjunSaF"
      },
      "execution_count": 4,
      "outputs": []
    },
    {
      "cell_type": "code",
      "source": [
        "s=set(List1)\n",
        "s"
      ],
      "metadata": {
        "colab": {
          "base_uri": "https://localhost:8080/"
        },
        "id": "uzV3Y89KnTkN",
        "outputId": "9421c62d-2cb7-4f4c-c790-db6d9a99685b"
      },
      "execution_count": 8,
      "outputs": [
        {
          "output_type": "execute_result",
          "data": {
            "text/plain": [
              "{1, 2, 3, 4}"
            ]
          },
          "metadata": {},
          "execution_count": 8
        }
      ]
    },
    {
      "cell_type": "markdown",
      "source": [
        "\n",
        "\n",
        "Python sets have these methods:\n",
        "\n",
        "s.union(t)  s | t   new set with elements from both s and t\n",
        "\n",
        "s.update(t) s |= t  return set s with elements added from t"
      ],
      "metadata": {
        "id": "D05ScItxnvLy"
      }
    },
    {
      "cell_type": "code",
      "source": [
        "s={1,4,23,4,5,6,4,3}\n",
        "s"
      ],
      "metadata": {
        "colab": {
          "base_uri": "https://localhost:8080/"
        },
        "id": "M3cKQHkXnwjr",
        "outputId": "50665329-ec4c-428a-dadf-94e0abad9601"
      },
      "execution_count": 16,
      "outputs": [
        {
          "output_type": "execute_result",
          "data": {
            "text/plain": [
              "{1, 3, 4, 5, 6, 23}"
            ]
          },
          "metadata": {},
          "execution_count": 16
        }
      ]
    },
    {
      "cell_type": "code",
      "source": [
        "t={1,2,5,7,5,3,67,9,2}\n",
        "t"
      ],
      "metadata": {
        "colab": {
          "base_uri": "https://localhost:8080/"
        },
        "id": "xFeD9fQwoB3b",
        "outputId": "4725fc45-c831-4c5c-8695-a3fb92f7a097"
      },
      "execution_count": 17,
      "outputs": [
        {
          "output_type": "execute_result",
          "data": {
            "text/plain": [
              "{1, 2, 3, 5, 7, 9, 67}"
            ]
          },
          "metadata": {},
          "execution_count": 17
        }
      ]
    },
    {
      "cell_type": "code",
      "source": [
        "s.union(t)"
      ],
      "metadata": {
        "colab": {
          "base_uri": "https://localhost:8080/"
        },
        "id": "nFb8H19toETQ",
        "outputId": "87a59114-4fef-434f-8c71-48c32a5d82af"
      },
      "execution_count": 11,
      "outputs": [
        {
          "output_type": "execute_result",
          "data": {
            "text/plain": [
              "{1, 2, 3, 4, 5, 6, 7, 9, 23, 67}"
            ]
          },
          "metadata": {},
          "execution_count": 11
        }
      ]
    },
    {
      "cell_type": "code",
      "source": [
        "s"
      ],
      "metadata": {
        "colab": {
          "base_uri": "https://localhost:8080/"
        },
        "id": "Lj2rytgmoGKY",
        "outputId": "f12f3ca5-3638-40f9-b356-50ac559fe0b5"
      },
      "execution_count": 15,
      "outputs": [
        {
          "output_type": "execute_result",
          "data": {
            "text/plain": [
              "{1, 2, 3, 4, 5, 6, 7, 9, 23, 67}"
            ]
          },
          "metadata": {},
          "execution_count": 15
        }
      ]
    },
    {
      "cell_type": "code",
      "source": [
        "s={1,4,23,4,5,6,4,3}\n",
        "t={1,2,5,7,5,3,67,9,2}\n",
        "s.update(t)\n",
        "s"
      ],
      "metadata": {
        "colab": {
          "base_uri": "https://localhost:8080/"
        },
        "id": "VJKQWVGhoOm0",
        "outputId": "cc2bf8fe-0159-40af-fb4b-33cea1dad095"
      },
      "execution_count": 19,
      "outputs": [
        {
          "output_type": "execute_result",
          "data": {
            "text/plain": [
              "{1, 2, 3, 4, 5, 6, 7, 9, 23, 67}"
            ]
          },
          "metadata": {},
          "execution_count": 19
        }
      ]
    },
    {
      "cell_type": "code",
      "source": [],
      "metadata": {
        "id": "9qToqZrPoY3I"
      },
      "execution_count": null,
      "outputs": []
    },
    {
      "cell_type": "markdown",
      "source": [
        "Answer5- Dictionary is a data structure that stores a key and a value pair and its is defined using {}."
      ],
      "metadata": {
        "id": "rQnQhHqwojVm"
      }
    },
    {
      "cell_type": "code",
      "source": [
        "d1={\"Name\":\"Priyanshu\",\"class\":\"Data science masters\",\"age\": 2}\n",
        "d1"
      ],
      "metadata": {
        "colab": {
          "base_uri": "https://localhost:8080/"
        },
        "id": "wTIGMHbuoslV",
        "outputId": "a45fe14b-e784-41ee-c13b-d2d327f11b2e"
      },
      "execution_count": 23,
      "outputs": [
        {
          "output_type": "execute_result",
          "data": {
            "text/plain": [
              "{'Name': 'Priyanshu', 'class': 'Data science masters', 'age': 2}"
            ]
          },
          "metadata": {},
          "execution_count": 23
        }
      ]
    },
    {
      "cell_type": "markdown",
      "source": [
        "Python dictionaries are unordered as an index is not defined in the dictionary apart fron this key is used."
      ],
      "metadata": {
        "id": "dOGsVSlJpBkD"
      }
    },
    {
      "cell_type": "markdown",
      "source": [
        "Answer6- Yes we can create a nested dictionary.For eg"
      ],
      "metadata": {
        "id": "96cBcjHkpSDm"
      }
    },
    {
      "cell_type": "code",
      "source": [
        "d1={\"Name\":{\"Nickname\":\"Priyanshu\",\"Surname\":\"Dahiya\"},\"class\":\"Data science masters\",\"age\": 2}\n",
        "d1['Name']['Surname']"
      ],
      "metadata": {
        "colab": {
          "base_uri": "https://localhost:8080/",
          "height": 35
        },
        "id": "04EAW6bSpXss",
        "outputId": "06ab8bfe-e14a-4e95-a0ff-03e9d1b22c23"
      },
      "execution_count": 25,
      "outputs": [
        {
          "output_type": "execute_result",
          "data": {
            "text/plain": [
              "'Dahiya'"
            ],
            "application/vnd.google.colaboratory.intrinsic+json": {
              "type": "string"
            }
          },
          "metadata": {},
          "execution_count": 25
        }
      ]
    },
    {
      "cell_type": "markdown",
      "source": [
        "Answer8-The main view objects of dictionary in python are keys, values and items."
      ],
      "metadata": {
        "id": "BluJ8ucMqYqG"
      }
    },
    {
      "cell_type": "code",
      "source": [
        "dict1 = {'Sport': 'Cricket' , 'Teams': ['India', 'Australia', 'England', 'South Africa', 'Sri Lanka', 'New Zealand']}"
      ],
      "metadata": {
        "id": "S4EK8p_jqfnT"
      },
      "execution_count": 26,
      "outputs": []
    },
    {
      "cell_type": "code",
      "source": [
        "dict1.keys()"
      ],
      "metadata": {
        "colab": {
          "base_uri": "https://localhost:8080/"
        },
        "id": "_ROaVeMQqf-f",
        "outputId": "a45c3e22-d5f6-49af-ef63-62179f2286e9"
      },
      "execution_count": 27,
      "outputs": [
        {
          "output_type": "execute_result",
          "data": {
            "text/plain": [
              "dict_keys(['Sport', 'Teams'])"
            ]
          },
          "metadata": {},
          "execution_count": 27
        }
      ]
    },
    {
      "cell_type": "code",
      "source": [
        "dict1.values()"
      ],
      "metadata": {
        "colab": {
          "base_uri": "https://localhost:8080/"
        },
        "id": "X7Qu6VDBqhrz",
        "outputId": "d89da321-522c-4075-a5b1-1a7e7536f578"
      },
      "execution_count": 28,
      "outputs": [
        {
          "output_type": "execute_result",
          "data": {
            "text/plain": [
              "dict_values(['Cricket', ['India', 'Australia', 'England', 'South Africa', 'Sri Lanka', 'New Zealand']])"
            ]
          },
          "metadata": {},
          "execution_count": 28
        }
      ]
    },
    {
      "cell_type": "code",
      "source": [
        "dict1.items()"
      ],
      "metadata": {
        "colab": {
          "base_uri": "https://localhost:8080/"
        },
        "id": "zJWDdY3RqkYG",
        "outputId": "5764dee6-7000-40c6-afdc-910c9483448b"
      },
      "execution_count": 29,
      "outputs": [
        {
          "output_type": "execute_result",
          "data": {
            "text/plain": [
              "dict_items([('Sport', 'Cricket'), ('Teams', ['India', 'Australia', 'England', 'South Africa', 'Sri Lanka', 'New Zealand'])])"
            ]
          },
          "metadata": {},
          "execution_count": 29
        }
      ]
    },
    {
      "cell_type": "code",
      "source": [],
      "metadata": {
        "id": "0_pqRIjuqmxH"
      },
      "execution_count": null,
      "outputs": []
    }
  ]
}