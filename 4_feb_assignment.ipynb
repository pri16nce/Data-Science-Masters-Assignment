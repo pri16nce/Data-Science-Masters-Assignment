{
  "nbformat": 4,
  "nbformat_minor": 0,
  "metadata": {
    "colab": {
      "provenance": []
    },
    "kernelspec": {
      "name": "python3",
      "display_name": "Python 3"
    },
    "language_info": {
      "name": "python"
    }
  },
  "cells": [
    {
      "cell_type": "code",
      "execution_count": 1,
      "metadata": {
        "id": "44W6JPaLm6k5"
      },
      "outputs": [],
      "source": [
        "l=[('Sachin Tendulkar', 34357), ('Ricky Ponting', 27483), ('Jack Kallis', 25534), ('Virat Kohli', 24936)]"
      ]
    },
    {
      "cell_type": "code",
      "source": [
        "z=lambda a:sorted(a)\n",
        "z(l)"
      ],
      "metadata": {
        "colab": {
          "base_uri": "https://localhost:8080/"
        },
        "id": "uA3KfpYCnEQZ",
        "outputId": "93453d6c-5324-4a92-8301-bf5973a0e23f"
      },
      "execution_count": 3,
      "outputs": [
        {
          "output_type": "execute_result",
          "data": {
            "text/plain": [
              "[('Jack Kallis', 25534),\n",
              " ('Ricky Ponting', 27483),\n",
              " ('Sachin Tendulkar', 34357),\n",
              " ('Virat Kohli', 24936)]"
            ]
          },
          "metadata": {},
          "execution_count": 3
        }
      ]
    },
    {
      "cell_type": "code",
      "source": [
        "l1=[1, 2, 3, 4, 5, 6, 7, 8, 9, 10]\n",
        "list(map(lambda x:x**2,l1))"
      ],
      "metadata": {
        "colab": {
          "base_uri": "https://localhost:8080/"
        },
        "id": "ucwm0vKsnWYg",
        "outputId": "a64ca6a1-630c-4570-cfb9-f9ded12b9147"
      },
      "execution_count": 5,
      "outputs": [
        {
          "output_type": "execute_result",
          "data": {
            "text/plain": [
              "[1, 4, 9, 16, 25, 36, 49, 64, 81, 100]"
            ]
          },
          "metadata": {},
          "execution_count": 5
        }
      ]
    },
    {
      "cell_type": "code",
      "source": [
        "tuple(map(lambda x:str(x),l1))"
      ],
      "metadata": {
        "colab": {
          "base_uri": "https://localhost:8080/"
        },
        "id": "-J0PxLdun8Ix",
        "outputId": "6e719b0d-ea02-4671-a974-6476d20c58ca"
      },
      "execution_count": 6,
      "outputs": [
        {
          "output_type": "execute_result",
          "data": {
            "text/plain": [
              "('1', '2', '3', '4', '5', '6', '7', '8', '9', '10')"
            ]
          },
          "metadata": {},
          "execution_count": 6
        }
      ]
    },
    {
      "cell_type": "code",
      "source": [
        "m=[i for i in range(1,26)]\n",
        "from functools import reduce\n",
        "reduce(lambda x,y:x*y,m)\n"
      ],
      "metadata": {
        "colab": {
          "base_uri": "https://localhost:8080/"
        },
        "id": "MhJvzyaVoQqu",
        "outputId": "7612a9f6-6a6e-460d-db18-59200ba28a85"
      },
      "execution_count": 11,
      "outputs": [
        {
          "output_type": "execute_result",
          "data": {
            "text/plain": [
              "15511210043330985984000000"
            ]
          },
          "metadata": {},
          "execution_count": 11
        }
      ]
    },
    {
      "cell_type": "code",
      "source": [
        "l2=[2, 3, 6, 9, 27, 60, 90, 120, 55, 46]\n",
        "list(filter(lambda x:x%2==0 and x%3==0,l2))"
      ],
      "metadata": {
        "colab": {
          "base_uri": "https://localhost:8080/"
        },
        "id": "NAf5l_BIocne",
        "outputId": "9279d3ab-9be2-4427-8ff3-6c07f8d99150"
      },
      "execution_count": 15,
      "outputs": [
        {
          "output_type": "execute_result",
          "data": {
            "text/plain": [
              "[6, 60, 90, 120]"
            ]
          },
          "metadata": {},
          "execution_count": 15
        }
      ]
    },
    {
      "cell_type": "code",
      "source": [
        "original=['python', 'php', 'aba', 'radar', 'level']\n",
        "list(filter(lambda x: (x[::-1] == x), original))"
      ],
      "metadata": {
        "colab": {
          "base_uri": "https://localhost:8080/"
        },
        "id": "xNgoCw1ro-Pf",
        "outputId": "878183fc-b574-49b3-8853-16f2df174973"
      },
      "execution_count": 16,
      "outputs": [
        {
          "output_type": "execute_result",
          "data": {
            "text/plain": [
              "['php', 'aba', 'radar', 'level']"
            ]
          },
          "metadata": {},
          "execution_count": 16
        }
      ]
    },
    {
      "cell_type": "code",
      "source": [],
      "metadata": {
        "id": "qsmA6CTPp-Uk"
      },
      "execution_count": null,
      "outputs": []
    }
  ]
}